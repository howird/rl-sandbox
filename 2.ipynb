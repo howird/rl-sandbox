{
 "cells": [
  {
   "cell_type": "markdown",
   "metadata": {},
   "source": [
    "# Value Functions: Action Value Functions and the Bellman Equation\n",
    "- Previously:\n",
    "    - an agent will attempt to choose its actions based on a function $G_t$, the expected sum of rewards in the future\n",
    "    - We were able to construct this function due to the markov property where each state is dependent only on its last state (not its entire history)\n",
    "    - we have a policy that maps state to action and thus looking at the possible states we can compare their expected future rewards to choose the best action\n",
    "Value Functions:\n",
    "- At each time step, the agent finds itself in some state\n",
    "- the agent takes some course of aactuion aims to maximize and thus states and (states, actions) pairs have value\n",
    "- larger $G_t$, larger value\n",
    "- "
   ]
  },
  {
   "cell_type": "markdown",
   "metadata": {},
   "source": []
  }
 ],
 "metadata": {
  "kernelspec": {
   "display_name": "Python 3.9.10 64-bit ('3.9.10')",
   "language": "python",
   "name": "python3"
  },
  "language_info": {
   "name": "python",
   "version": "3.9.10"
  },
  "orig_nbformat": 4,
  "vscode": {
   "interpreter": {
    "hash": "38601afb4237d17155b9f57972f32159ebfbe85eb342c8104b7a3352f2956f14"
   }
  }
 },
 "nbformat": 4,
 "nbformat_minor": 2
}
